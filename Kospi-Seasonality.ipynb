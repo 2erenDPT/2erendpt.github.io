{
 "cells": [
  {
   "cell_type": "code",
   "execution_count": 49,
   "id": "13541028",
   "metadata": {
    "scrolled": true
   },
   "outputs": [
    {
     "name": "stdout",
     "output_type": "stream",
     "text": [
      "Requirement already satisfied: finance-datareader in c:\\programdata\\anaconda3\\lib\\site-packages (0.9.31)\n",
      "Requirement already satisfied: requests-file in c:\\programdata\\anaconda3\\lib\\site-packages (from finance-datareader) (1.5.1)\n",
      "Requirement already satisfied: tqdm in c:\\programdata\\anaconda3\\lib\\site-packages (from finance-datareader) (4.59.0)\n",
      "Requirement already satisfied: requests>=2.3.0 in c:\\programdata\\anaconda3\\lib\\site-packages (from finance-datareader) (2.25.1)\n",
      "Requirement already satisfied: lxml in c:\\programdata\\anaconda3\\lib\\site-packages (from finance-datareader) (4.6.3)\n",
      "Requirement already satisfied: pandas>=0.19.2 in c:\\programdata\\anaconda3\\lib\\site-packages (from finance-datareader) (1.2.4)\n",
      "Requirement already satisfied: numpy>=1.16.5 in c:\\programdata\\anaconda3\\lib\\site-packages (from pandas>=0.19.2->finance-datareader) (1.20.1)\n",
      "Requirement already satisfied: pytz>=2017.3 in c:\\programdata\\anaconda3\\lib\\site-packages (from pandas>=0.19.2->finance-datareader) (2021.1)\n",
      "Requirement already satisfied: python-dateutil>=2.7.3 in c:\\programdata\\anaconda3\\lib\\site-packages (from pandas>=0.19.2->finance-datareader) (2.8.1)\n",
      "Requirement already satisfied: six>=1.5 in c:\\programdata\\anaconda3\\lib\\site-packages (from python-dateutil>=2.7.3->pandas>=0.19.2->finance-datareader) (1.15.0)\n",
      "Requirement already satisfied: urllib3<1.27,>=1.21.1 in c:\\programdata\\anaconda3\\lib\\site-packages (from requests>=2.3.0->finance-datareader) (1.26.4)\n",
      "Requirement already satisfied: chardet<5,>=3.0.2 in c:\\programdata\\anaconda3\\lib\\site-packages (from requests>=2.3.0->finance-datareader) (4.0.0)\n",
      "Requirement already satisfied: certifi>=2017.4.17 in c:\\programdata\\anaconda3\\lib\\site-packages (from requests>=2.3.0->finance-datareader) (2020.12.5)\n",
      "Requirement already satisfied: idna<3,>=2.5 in c:\\programdata\\anaconda3\\lib\\site-packages (from requests>=2.3.0->finance-datareader) (2.10)\n"
     ]
    }
   ],
   "source": [
    "!pip install -U finance-datareader"
   ]
  },
  {
   "cell_type": "code",
   "execution_count": 50,
   "id": "f435b35e",
   "metadata": {
    "scrolled": true
   },
   "outputs": [],
   "source": [
    "#KOSPI에 계절성이 존재하는가? KOSPI에 매수하기 좋은 달과 매도하기 좋은 달이 있을까? \n",
    "# 4월에 매수하기 좋고 9월에 매도하기 좋다는데 월별 추이가 맞을까? 라는 의문을 해결하기 위한 작업입니다.\n",
    "# 과연 KOSPI는 월별로 어떻게 수익률의 차이를 보이는지 알아보시죠!\n",
    "\n",
    "#데이터 수집을 위한 FinaceDataReader, 데이터 분석을 위한 pandas, 시각화를 위한 matplotlib.pyplot\n",
    "import FinanceDataReader as fdr\n",
    "import pandas as pd\n",
    "import matplotlib.pyplot as plt"
   ]
  },
  {
   "cell_type": "code",
   "execution_count": 70,
   "id": "1197da09",
   "metadata": {},
   "outputs": [
    {
     "data": {
      "text/plain": [
       "(2238, 6)"
      ]
     },
     "execution_count": 70,
     "metadata": {},
     "output_type": "execute_result"
    }
   ],
   "source": [
    "# 2010년부터 2019년까지 KOSPI data를 수집합니다.\n",
    "# outlier 제거를 위하여 코로나 19가 주식시장에 영향을 미치기 전인 2019년까지의 데이터를 활용했습니다.\n",
    "df = fdr.DataReader('KS11', '2010-12-01','2019-12-31') # 코스피\n",
    "df.shape"
   ]
  },
  {
   "cell_type": "code",
   "execution_count": 71,
   "id": "3c18372a",
   "metadata": {
    "scrolled": true
   },
   "outputs": [
    {
     "data": {
      "text/html": [
       "<div>\n",
       "<style scoped>\n",
       "    .dataframe tbody tr th:only-of-type {\n",
       "        vertical-align: middle;\n",
       "    }\n",
       "\n",
       "    .dataframe tbody tr th {\n",
       "        vertical-align: top;\n",
       "    }\n",
       "\n",
       "    .dataframe thead th {\n",
       "        text-align: right;\n",
       "    }\n",
       "</style>\n",
       "<table border=\"1\" class=\"dataframe\">\n",
       "  <thead>\n",
       "    <tr style=\"text-align: right;\">\n",
       "      <th></th>\n",
       "      <th>Close</th>\n",
       "      <th>Open</th>\n",
       "      <th>High</th>\n",
       "      <th>Low</th>\n",
       "      <th>Volume</th>\n",
       "      <th>Change</th>\n",
       "    </tr>\n",
       "    <tr>\n",
       "      <th>Date</th>\n",
       "      <th></th>\n",
       "      <th></th>\n",
       "      <th></th>\n",
       "      <th></th>\n",
       "      <th></th>\n",
       "      <th></th>\n",
       "    </tr>\n",
       "  </thead>\n",
       "  <tbody>\n",
       "    <tr>\n",
       "      <th>2010-12-01</th>\n",
       "      <td>1929.32</td>\n",
       "      <td>1907.70</td>\n",
       "      <td>1929.32</td>\n",
       "      <td>1904.71</td>\n",
       "      <td>339160000.0</td>\n",
       "      <td>0.0130</td>\n",
       "    </tr>\n",
       "    <tr>\n",
       "      <th>2010-12-02</th>\n",
       "      <td>1950.26</td>\n",
       "      <td>1943.71</td>\n",
       "      <td>1950.26</td>\n",
       "      <td>1940.23</td>\n",
       "      <td>439000000.0</td>\n",
       "      <td>0.0109</td>\n",
       "    </tr>\n",
       "    <tr>\n",
       "      <th>2010-12-03</th>\n",
       "      <td>1957.26</td>\n",
       "      <td>1960.61</td>\n",
       "      <td>1960.61</td>\n",
       "      <td>1948.51</td>\n",
       "      <td>438580000.0</td>\n",
       "      <td>0.0036</td>\n",
       "    </tr>\n",
       "    <tr>\n",
       "      <th>2010-12-06</th>\n",
       "      <td>1953.64</td>\n",
       "      <td>1961.23</td>\n",
       "      <td>1961.47</td>\n",
       "      <td>1946.35</td>\n",
       "      <td>460280000.0</td>\n",
       "      <td>-0.0018</td>\n",
       "    </tr>\n",
       "    <tr>\n",
       "      <th>2010-12-07</th>\n",
       "      <td>1962.52</td>\n",
       "      <td>1955.63</td>\n",
       "      <td>1964.64</td>\n",
       "      <td>1952.56</td>\n",
       "      <td>639160000.0</td>\n",
       "      <td>0.0045</td>\n",
       "    </tr>\n",
       "  </tbody>\n",
       "</table>\n",
       "</div>"
      ],
      "text/plain": [
       "              Close     Open     High      Low       Volume  Change\n",
       "Date                                                               \n",
       "2010-12-01  1929.32  1907.70  1929.32  1904.71  339160000.0  0.0130\n",
       "2010-12-02  1950.26  1943.71  1950.26  1940.23  439000000.0  0.0109\n",
       "2010-12-03  1957.26  1960.61  1960.61  1948.51  438580000.0  0.0036\n",
       "2010-12-06  1953.64  1961.23  1961.47  1946.35  460280000.0 -0.0018\n",
       "2010-12-07  1962.52  1955.63  1964.64  1952.56  639160000.0  0.0045"
      ]
     },
     "execution_count": 71,
     "metadata": {},
     "output_type": "execute_result"
    }
   ],
   "source": [
    "# 수집하는 데이터의 일별 시세 미리보기 (첫부분)\n",
    "df.head()"
   ]
  },
  {
   "cell_type": "code",
   "execution_count": 72,
   "id": "3eee9d83",
   "metadata": {},
   "outputs": [
    {
     "data": {
      "text/html": [
       "<div>\n",
       "<style scoped>\n",
       "    .dataframe tbody tr th:only-of-type {\n",
       "        vertical-align: middle;\n",
       "    }\n",
       "\n",
       "    .dataframe tbody tr th {\n",
       "        vertical-align: top;\n",
       "    }\n",
       "\n",
       "    .dataframe thead th {\n",
       "        text-align: right;\n",
       "    }\n",
       "</style>\n",
       "<table border=\"1\" class=\"dataframe\">\n",
       "  <thead>\n",
       "    <tr style=\"text-align: right;\">\n",
       "      <th></th>\n",
       "      <th>Close</th>\n",
       "      <th>Open</th>\n",
       "      <th>High</th>\n",
       "      <th>Low</th>\n",
       "      <th>Volume</th>\n",
       "      <th>Change</th>\n",
       "    </tr>\n",
       "    <tr>\n",
       "      <th>Date</th>\n",
       "      <th></th>\n",
       "      <th></th>\n",
       "      <th></th>\n",
       "      <th></th>\n",
       "      <th></th>\n",
       "      <th></th>\n",
       "    </tr>\n",
       "  </thead>\n",
       "  <tbody>\n",
       "    <tr>\n",
       "      <th>2019-12-23</th>\n",
       "      <td>2203.71</td>\n",
       "      <td>2208.22</td>\n",
       "      <td>2209.20</td>\n",
       "      <td>2196.43</td>\n",
       "      <td>502030000.0</td>\n",
       "      <td>-0.0002</td>\n",
       "    </tr>\n",
       "    <tr>\n",
       "      <th>2019-12-24</th>\n",
       "      <td>2190.08</td>\n",
       "      <td>2206.23</td>\n",
       "      <td>2206.23</td>\n",
       "      <td>2187.58</td>\n",
       "      <td>569970000.0</td>\n",
       "      <td>-0.0062</td>\n",
       "    </tr>\n",
       "    <tr>\n",
       "      <th>2019-12-26</th>\n",
       "      <td>2197.93</td>\n",
       "      <td>2192.22</td>\n",
       "      <td>2198.01</td>\n",
       "      <td>2183.90</td>\n",
       "      <td>571310000.0</td>\n",
       "      <td>0.0036</td>\n",
       "    </tr>\n",
       "    <tr>\n",
       "      <th>2019-12-27</th>\n",
       "      <td>2204.21</td>\n",
       "      <td>2183.70</td>\n",
       "      <td>2215.55</td>\n",
       "      <td>2177.40</td>\n",
       "      <td>490170000.0</td>\n",
       "      <td>0.0029</td>\n",
       "    </tr>\n",
       "    <tr>\n",
       "      <th>2019-12-30</th>\n",
       "      <td>2197.67</td>\n",
       "      <td>2202.62</td>\n",
       "      <td>2208.04</td>\n",
       "      <td>2195.65</td>\n",
       "      <td>416400000.0</td>\n",
       "      <td>-0.0030</td>\n",
       "    </tr>\n",
       "  </tbody>\n",
       "</table>\n",
       "</div>"
      ],
      "text/plain": [
       "              Close     Open     High      Low       Volume  Change\n",
       "Date                                                               \n",
       "2019-12-23  2203.71  2208.22  2209.20  2196.43  502030000.0 -0.0002\n",
       "2019-12-24  2190.08  2206.23  2206.23  2187.58  569970000.0 -0.0062\n",
       "2019-12-26  2197.93  2192.22  2198.01  2183.90  571310000.0  0.0036\n",
       "2019-12-27  2204.21  2183.70  2215.55  2177.40  490170000.0  0.0029\n",
       "2019-12-30  2197.67  2202.62  2208.04  2195.65  416400000.0 -0.0030"
      ]
     },
     "execution_count": 72,
     "metadata": {},
     "output_type": "execute_result"
    }
   ],
   "source": [
    "# 수집하는 데이터의 일별 시세 미리보기 (뒷부분)\n",
    "df.tail()"
   ]
  },
  {
   "cell_type": "code",
   "execution_count": 86,
   "id": "477acd9a",
   "metadata": {},
   "outputs": [
    {
     "data": {
      "text/plain": [
       "Date\n",
       "2010-12-31    2002.504091\n",
       "2011-01-31    2091.610000\n",
       "2011-02-28    2002.869412\n",
       "2011-03-31    2002.669091\n",
       "2011-04-30    2153.132381\n",
       "                 ...     \n",
       "2019-08-31    1944.237619\n",
       "2019-09-30    2045.205263\n",
       "2019-10-31    2065.747619\n",
       "2019-11-30    2128.794762\n",
       "2019-12-31    2147.013500\n",
       "Freq: M, Name: Close, Length: 109, dtype: float64"
      ]
     },
     "execution_count": 86,
     "metadata": {},
     "output_type": "execute_result"
    }
   ],
   "source": [
    "# 2011년~2019년까지 월별로 월평균을 구합니다.\n",
    "df[\"Close\"].resample(\"M\").mean()"
   ]
  },
  {
   "cell_type": "code",
   "execution_count": 74,
   "id": "66de325b",
   "metadata": {},
   "outputs": [
    {
     "data": {
      "text/plain": [
       "<AxesSubplot:xlabel='Date'>"
      ]
     },
     "execution_count": 74,
     "metadata": {},
     "output_type": "execute_result"
    },
    {
     "data": {
      "image/png": "[encoded data removed]",
      "text/plain": [
       "<Figure size 432x288 with 1 Axes>"
      ]
     },
     "metadata": {
      "needs_background": "light"
     },
     "output_type": "display_data"
    }
   ],
   "source": [
    "# 앞서 구한 월평균값을 차트로 시각화합니다.\n",
    "df[\"Close\"].resample(\"M\").mean().plot()"
   ]
  },
  {
   "cell_type": "code",
   "execution_count": 75,
   "id": "b43ed90f",
   "metadata": {},
   "outputs": [
    {
     "data": {
      "text/plain": [
       "Date\n",
       "2010-12-31           NaN\n",
       "2011-01-31     89.105909\n",
       "2011-02-28    -88.740588\n",
       "2011-03-31     -0.200321\n",
       "2011-04-30    150.463290\n",
       "                 ...    \n",
       "2019-08-31   -135.242381\n",
       "2019-09-30    100.967644\n",
       "2019-10-31     20.542356\n",
       "2019-11-30     63.047143\n",
       "2019-12-31     18.218738\n",
       "Freq: M, Name: Close, Length: 109, dtype: float64"
      ]
     },
     "execution_count": 75,
     "metadata": {},
     "output_type": "execute_result"
    }
   ],
   "source": [
    "# 직전달과 이번 달의 차이를 통해 수익률을 산출합니다.\n",
    "df[\"Close\"].resample(\"M\").mean().diff()"
   ]
  },
  {
   "cell_type": "code",
   "execution_count": 76,
   "id": "3ad4448a",
   "metadata": {},
   "outputs": [
    {
     "ename": "AttributeError",
     "evalue": "'str' object has no attribute 'resample'",
     "output_type": "error",
     "traceback": [
      "\u001b[1;31m---------------------------------------------------------------------------\u001b[0m",
      "\u001b[1;31mAttributeError\u001b[0m                            Traceback (most recent call last)",
      "\u001b[1;32m<ipython-input-76-7aa1f62b124a>\u001b[0m in \u001b[0;36m<module>\u001b[1;34m\u001b[0m\n\u001b[0;32m      2\u001b[0m     \u001b[1;32mreturn\u001b[0m \u001b[0mentry\u001b[0m\u001b[1;33m[\u001b[0m\u001b[1;36m0\u001b[0m\u001b[1;33m]\u001b[0m\u001b[1;33m\u001b[0m\u001b[1;33m\u001b[0m\u001b[0m\n\u001b[0;32m      3\u001b[0m \u001b[1;33m\u001b[0m\u001b[0m\n\u001b[1;32m----> 4\u001b[1;33m \u001b[0mbeginning_price\u001b[0m \u001b[1;33m=\u001b[0m \u001b[1;34m\"Close\"\u001b[0m\u001b[1;33m.\u001b[0m\u001b[0mresample\u001b[0m\u001b[1;33m(\u001b[0m\u001b[1;34m'M'\u001b[0m\u001b[1;33m)\u001b[0m\u001b[1;33m.\u001b[0m\u001b[0mapply\u001b[0m\u001b[1;33m(\u001b[0m\u001b[0mfirst_day\u001b[0m\u001b[1;33m)\u001b[0m\u001b[1;33m\u001b[0m\u001b[1;33m\u001b[0m\u001b[0m\n\u001b[0m",
      "\u001b[1;31mAttributeError\u001b[0m: 'str' object has no attribute 'resample'"
     ]
    }
   ],
   "source": [
    "def first_day(entry):\n",
    "    return entry[0]\n",
    "\n",
    "beginning_price = \"Close\".resample('M').apply(first_day)"
   ]
  },
  {
   "cell_type": "code",
   "execution_count": 77,
   "id": "77f67dba",
   "metadata": {},
   "outputs": [
    {
     "data": {
      "text/plain": [
       "Date\n",
       "2010-12-31         NaN\n",
       "2011-01-31    0.037231\n",
       "2011-02-28   -0.039754\n",
       "2011-03-31   -0.003194\n",
       "2011-04-30    0.069451\n",
       "                ...   \n",
       "2019-08-31   -0.068386\n",
       "2019-09-30    0.063055\n",
       "2019-10-31    0.004946\n",
       "2019-11-30    0.026747\n",
       "2019-12-31    0.019433\n",
       "Freq: M, Name: Close, Length: 109, dtype: float64"
      ]
     },
     "execution_count": 77,
     "metadata": {},
     "output_type": "execute_result"
    }
   ],
   "source": [
    "# 앞서 구해진 값을 percent change라는 함수를 통해 percent로 변환해줍니다.\n",
    "df[\"Close\"].resample(\"M\").median().pct_change()"
   ]
  },
  {
   "cell_type": "code",
   "execution_count": 87,
   "id": "68d42206",
   "metadata": {},
   "outputs": [
    {
     "data": {
      "text/plain": [
       "<matplotlib.lines.Line2D at 0x25d8f36a8e0>"
      ]
     },
     "execution_count": 87,
     "metadata": {},
     "output_type": "execute_result"
    },
    {
     "data": {
      "image/png": "[encoded data removed]",
      "text/plain": [
       "<Figure size 720x288 with 1 Axes>"
      ]
     },
     "metadata": {
      "needs_background": "light"
     },
     "output_type": "display_data"
    }
   ],
   "source": [
    "# 원별 변화량의 평균을 percent로 변환하고 시각화합니다.\n",
    "month_change =  df[\"Close\"].resample(\"M\").mean().pct_change()\n",
    "month_change.plot(figsize=(10, 4))\n",
    "plt.axhline(0, c=\"k\", lw=1)"
   ]
  },
  {
   "cell_type": "code",
   "execution_count": 90,
   "id": "6ab09234",
   "metadata": {},
   "outputs": [
    {
     "data": {
      "text/plain": [
       "([<matplotlib.axis.XTick at 0x25d8f651cd0>,\n",
       "  <matplotlib.axis.XTick at 0x25d8f651ca0>,\n",
       "  <matplotlib.axis.XTick at 0x25d8f676250>,\n",
       "  <matplotlib.axis.XTick at 0x25d8f6966d0>,\n",
       "  <matplotlib.axis.XTick at 0x25d8f696be0>,\n",
       "  <matplotlib.axis.XTick at 0x25d8f6a1130>,\n",
       "  <matplotlib.axis.XTick at 0x25d8f6a1640>,\n",
       "  <matplotlib.axis.XTick at 0x25d8f6a1b50>,\n",
       "  <matplotlib.axis.XTick at 0x25d8f64c820>,\n",
       "  <matplotlib.axis.XTick at 0x25d8f696850>,\n",
       "  <matplotlib.axis.XTick at 0x25d8f6a82e0>,\n",
       "  <matplotlib.axis.XTick at 0x25d8f6a87f0>],\n",
       " [Text(0, 0, 'Jan'),\n",
       "  Text(1, 0, 'Feb'),\n",
       "  Text(2, 0, 'Mar'),\n",
       "  Text(3, 0, 'Apr'),\n",
       "  Text(4, 0, 'May'),\n",
       "  Text(5, 0, 'Jun'),\n",
       "  Text(6, 0, 'Jul'),\n",
       "  Text(7, 0, 'Aug'),\n",
       "  Text(8, 0, 'Sep'),\n",
       "  Text(9, 0, 'Oct'),\n",
       "  Text(10, 0, 'Nov'),\n",
       "  Text(11, 0, 'Dec')])"
      ]
     },
     "execution_count": 90,
     "metadata": {},
     "output_type": "execute_result"
    },
    {
     "data": {
      "image/png": "[encoded data removed]",
      "text/plain": [
       "<Figure size 720x288 with 1 Axes>"
      ]
     },
     "metadata": {
      "needs_background": "light"
     },
     "output_type": "display_data"
    }
   ],
   "source": [
    "# 앞서 구한 값을 막대형 차트로 시각화 합니다.\n",
    "sum_monthly_change.plot(kind=\"bar\", figsize=(10, 4))\n",
    "# 각 월마다 1월~12월까지의 명칭을 붙여줍니다. (일일이 수작업으로, 한글 인식이 안되므로 영어로)\n",
    "plt.xticks(range(0,12), [\"Jan\", \"Feb\", \"Mar\", \"Apr\", \"May\", \"Jun\", \"Jul\", \"Aug\", \"Sep\", \"Oct\", \"Nov\", \"Dec\"])"
   ]
  },
  {
   "cell_type": "code",
   "execution_count": 80,
   "id": "660dfdb0",
   "metadata": {},
   "outputs": [
    {
     "data": {
      "text/plain": [
       "Date\n",
       "2010-12-31         NaN\n",
       "2011-01-31    1.044497\n",
       "2011-02-28    0.957573\n",
       "2011-03-31    0.999900\n",
       "2011-04-30    1.075131\n",
       "                ...   \n",
       "2019-08-31    0.934963\n",
       "2019-09-30    1.051932\n",
       "2019-10-31    1.010044\n",
       "2019-11-30    1.030520\n",
       "2019-12-31    1.008558\n",
       "Freq: M, Name: Close, Length: 109, dtype: float64"
      ]
     },
     "execution_count": 80,
     "metadata": {},
     "output_type": "execute_result"
    }
   ],
   "source": [
    "# 월별 평균 수익률 계산을 위해 음수를 제거해야 하고, 이에 따라 임시로 1을 더해줍니다.\n",
    "percent_month_change = month_change + 1\n",
    "percent_month_change"
   ]
  },
  {
   "cell_type": "code",
   "execution_count": 81,
   "id": "d6607e23",
   "metadata": {},
   "outputs": [
    {
     "data": {
      "text/plain": [
       "1     1.050445\n",
       "2     1.058514\n",
       "3     1.100937\n",
       "4     1.156017\n",
       "5     0.945364\n",
       "6     0.907710\n",
       "7     0.998041\n",
       "8     0.836653\n",
       "9     1.074774\n",
       "10    1.006411\n",
       "11    0.980687\n",
       "12    0.996786\n",
       "Name: Close, dtype: float64"
      ]
     },
     "execution_count": 81,
     "metadata": {},
     "output_type": "execute_result"
    }
   ],
   "source": [
    "# 구해진 각 월의 수익률을 월별로 곱하여 10년간 월평균 수익률을 계산합니다.\n",
    "multiplied_monthly_change = percent_month_change.groupby([lambda x: x.month]).prod()\n",
    "multiplied_monthly_change"
   ]
  },
  {
   "cell_type": "code",
   "execution_count": 82,
   "id": "4f734eed",
   "metadata": {},
   "outputs": [
    {
     "data": {
      "text/plain": [
       "([<matplotlib.axis.XTick at 0x25d8f2b2130>,\n",
       "  <matplotlib.axis.XTick at 0x25d8f2b2100>,\n",
       "  <matplotlib.axis.XTick at 0x25d8f2d24f0>,\n",
       "  <matplotlib.axis.XTick at 0x25d8f2efb50>,\n",
       "  <matplotlib.axis.XTick at 0x25d8f2fb0a0>,\n",
       "  <matplotlib.axis.XTick at 0x25d8f2fb5b0>,\n",
       "  <matplotlib.axis.XTick at 0x25d8f2fbac0>,\n",
       "  <matplotlib.axis.XTick at 0x25d8f2fbfd0>,\n",
       "  <matplotlib.axis.XTick at 0x25d8f2a7cd0>,\n",
       "  <matplotlib.axis.XTick at 0x25d8f302220>,\n",
       "  <matplotlib.axis.XTick at 0x25d8f302730>,\n",
       "  <matplotlib.axis.XTick at 0x25d8f302c40>],\n",
       " [Text(0, 0, 'Jan'),\n",
       "  Text(1, 0, 'Feb'),\n",
       "  Text(2, 0, 'Mar'),\n",
       "  Text(3, 0, 'Apr'),\n",
       "  Text(4, 0, 'May'),\n",
       "  Text(5, 0, 'Jun'),\n",
       "  Text(6, 0, 'Jul'),\n",
       "  Text(7, 0, 'Aug'),\n",
       "  Text(8, 0, 'Sep'),\n",
       "  Text(9, 0, 'Oct'),\n",
       "  Text(10, 0, 'Nov'),\n",
       "  Text(11, 0, 'Dec')])"
      ]
     },
     "execution_count": 82,
     "metadata": {},
     "output_type": "execute_result"
    },
    {
     "data": {
      "image/png": "[encoded data removed]",
      "text/plain": [
       "<Figure size 720x288 with 1 Axes>"
      ]
     },
     "metadata": {
      "needs_background": "light"
     },
     "output_type": "display_data"
    }
   ],
   "source": [
    "# 월펼 평균 수익률을 막대형 차트로 시각화합니다.\n",
    "multiplied_monthly_change_plot = multiplied_monthly_change - 1\n",
    "multiplied_monthly_change_plot.plot(kind=\"bar\", figsize=(10, 4))\n",
    "# 역시나 이름은 수작업으로 붙여줍니다.\n",
    "plt.xticks(range(0,12), [\"Jan\", \"Feb\", \"Mar\", \"Apr\", \"May\", \"Jun\", \"Jul\", \"Aug\", \"Sep\", \"Oct\", \"Nov\", \"Dec\"])\n",
    "# 평균적으로 4월의 수익률이 제일 높고 8월의 수익률이 가장 안 좋은 것을 확인할 수 있습니다.\n",
    "# 눈에 띄는 점은 4월과 5월 / 8월과 9월의 대비되는 평균 수익률입니다."
   ]
  }
 ],
 "metadata": {
  "kernelspec": {
   "display_name": "Python 3",
   "language": "python",
   "name": "python3"
  },
  "language_info": {
   "codemirror_mode": {
    "name": "ipython",
    "version": 3
   },
   "file_extension": ".py",
   "mimetype": "text/x-python",
   "name": "python",
   "nbconvert_exporter": "python",
   "pygments_lexer": "ipython3",
   "version": "3.8.8"
  }
 },
 "nbformat": 4,
 "nbformat_minor": 5
}
